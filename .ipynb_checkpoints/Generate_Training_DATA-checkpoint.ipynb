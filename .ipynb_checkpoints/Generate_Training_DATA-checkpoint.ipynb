{
 "cells": [
  {
   "cell_type": "markdown",
   "id": "6a53b312-3bbc-4b1b-94cb-0ec57b35b366",
   "metadata": {},
   "source": [
    "## Generate Pangolin similar data for training"
   ]
  },
  {
   "cell_type": "code",
   "execution_count": 1,
   "id": "d4767bae-2ad6-45d4-88e5-2f0ca51784b8",
   "metadata": {},
   "outputs": [],
   "source": [
    "import pandas as pd\n",
    "import numpy as np\n",
    "import torch\n",
    "import gffutils\n",
    "import glob\n",
    "from pyfaidx import Fasta\n",
    "from collections import defaultdict\n",
    "from packages.visual_utils import *\n",
    "from packages.data_utils import *"
   ]
  },
  {
   "cell_type": "code",
   "execution_count": 2,
   "id": "d4df29fc-e0b3-477f-a18f-c36d3ba65dcd",
   "metadata": {},
   "outputs": [],
   "source": [
    "# ---- Configurable Parameters ----\n",
    "FASTA_PATH = \"./raw_data/annotation/GRCh38.primary_assembly.genome.fa\"          # reference genome (e.g., GRCh38.fa)\n",
    "DB_PATH = \"/home/xli_p14/github/DL_RNA_Splicing/raw_data/annotation/gencode.v48.annotation.db\"\n",
    "BLOCK_SIZE = 15000\n",
    "PADDING = 5000\n",
    "\n",
    "# ---- Load genome FASTA ----\n",
    "genome = Fasta(FASTA_PATH)"
   ]
  },
  {
   "cell_type": "code",
   "execution_count": 23,
   "id": "f52ab4c3-7316-4a99-9ecd-6a90547caeaa",
   "metadata": {},
   "outputs": [],
   "source": [
    "### Step 1: merge expression\n",
    "\n",
    "GEX_files = glob.glob(\"raw_data/gene_count/*counts.txt\")\n",
    "# Initialize empty list to collect dataframes\n",
    "df_list = []\n",
    "\n",
    "for filepath in GEX_files:\n",
    "    # Use filename (without extension) as sample name\n",
    "    sample_name = filepath.split(\"/\")[-1].split(\".\")[0]\n",
    "    \n",
    "    # Read file with gene ID as index\n",
    "    df = pd.read_csv(filepath, sep=\"\\t\", header=None, index_col=0)\n",
    "    df.columns = [sample_name]  # Rename single column to sample name\n",
    "    \n",
    "    df_list.append(df)\n",
    "\n",
    "# Merge all DataFrames on index (gene ID)\n",
    "merged_df = pd.concat(df_list, axis=1)\n",
    "\n",
    "# Result: rows = genes, columns = samples\n",
    "print(\"Merged expression matrix shape:\", merged_df.shape)\n",
    "\n",
    "# Step 2: Load database\n",
    "db = gffutils.FeatureDB(DB_PATH)\n",
    "\n",
    "# Step 3: Calculate gene lengths (union of exon intervals per gene)\n",
    "gene_lengths = {}\n",
    "for gene in db.features_of_type('gene'):\n",
    "    try:\n",
    "        exons = list(db.children(gene, featuretype='exon', order_by='start'))\n",
    "        if not exons:\n",
    "            continue\n",
    "        # Union exon spans\n",
    "        intervals = []\n",
    "        for exon in exons:\n",
    "            intervals.append((exon.start, exon.end))\n",
    "        # Merge overlapping intervals\n",
    "        intervals.sort()\n",
    "        merged = []\n",
    "        current_start, current_end = intervals[0]\n",
    "        for start, end in intervals[1:]:\n",
    "            if start <= current_end:\n",
    "                current_end = max(current_end, end)\n",
    "            else:\n",
    "                merged.append((current_start, current_end))\n",
    "                current_start, current_end = start, end\n",
    "        merged.append((current_start, current_end))\n",
    "        # Sum total length\n",
    "        total_length = sum(end - start + 1 for start, end in merged)\n",
    "        gene_lengths[gene.id] = total_length\n",
    "    except Exception as e:\n",
    "        print(f\"Failed on gene {gene.id}: {e}\")\n",
    "\n",
    "# Step 4: Save as TSV\n",
    "length_df = pd.DataFrame.from_dict(gene_lengths, orient='index', columns=['length'])\n",
    "length_df.index.name = 'gene_id'\n",
    "length_df.to_csv(\"gencode.v48.gene_lengths.tsv\", sep='\\t')\n",
    "\n",
    "# Load expression matrix\n",
    "# Rows = genes, Columns = samples\n",
    "expr_df = merged_df.iloc[0:-5, :]\n",
    "\n",
    "# Load gene lengths (must match index of expr_df)\n",
    "# Example format: gene_id \\t length\n",
    "gene_lengths = length_df['length']\n",
    "\n",
    "# Filter to common genes\n",
    "common_genes = expr_df.index.intersection(gene_lengths.index)\n",
    "expr_df = expr_df.loc[common_genes]\n",
    "gene_lengths = gene_lengths.loc[common_genes]\n",
    "\n",
    "# Normalize counts to TPM\n",
    "def counts_to_tpm(counts, lengths):\n",
    "    rpk = counts.div(lengths, axis=0)  # reads per kilobase\n",
    "    scaling_factor = rpk.sum(axis=0) / 1e6  # per sample\n",
    "    return rpk.div(scaling_factor, axis=1)\n",
    "\n",
    "tpm_df = counts_to_tpm(expr_df, gene_lengths)\n",
    "\n",
    "# Save result\n",
    "tpm_df.to_csv(\"combined_expression_matrix.TPM.tsv\", sep='\\t', float_format='%.3f')"
   ]
  },
  {
   "cell_type": "code",
   "execution_count": 4,
   "id": "4e063f38-1969-4061-9f59-d10608eee7a9",
   "metadata": {},
   "outputs": [],
   "source": [
    "tpm_df = pd.read_csv(\"combined_expression_matrix.TPM.tsv\", sep='\\t').set_index('gene_id')\n",
    "gene_select = tpm_df.std(axis = 1).nlargest(10).index\n",
    "\n",
    "tpm_df = tpm_df.loc[gene_select, :]\n",
    "normalized_df = tpm_df.sub(tpm_df.min(axis=1), axis=0).div(tpm_df.max(axis=1) - tpm_df.min(axis=1), axis=0).fillna(0)\n",
    "normalized_df = normalized_df.round(3)\n",
    "\n",
    "#normalized_df.to_csv(\"var_top10_exp.TPM.tsv\", sep='\\t')"
   ]
  },
  {
   "cell_type": "code",
   "execution_count": 4,
   "id": "51838158-8baa-4499-aed7-73cd60ab78bf",
   "metadata": {},
   "outputs": [],
   "source": [
    "def Write_Training_Data_From_EXP_PSI(normalized_df, _out_path=\"default_training_data.pt\"):\n",
    "    training_input = []\n",
    "    training_label = []\n",
    "    genome = Fasta(FASTA_PATH)\n",
    "\n",
    "    for sample_id in normalized_df.columns:\n",
    "        print(f\"Processing sample: {sample_id}\")\n",
    "    \n",
    "        # Find TSV files matching this sample_id\n",
    "        tsv_files = glob.glob(f\"raw_data/PSI/*{sample_id}*.psi.tsv\")\n",
    "        if not tsv_files:\n",
    "            print(f\"  No PSI TSV files found for sample {sample_id}, skipping.\")\n",
    "            continue\n",
    "    \n",
    "        for MAJIQ_TSV in tsv_files:\n",
    "            #print(f\"  Processing file: {MAJIQ_TSV}\")\n",
    "            try:\n",
    "                majiq_df = pd.read_csv(MAJIQ_TSV, sep=\"\\s+\")[0:2]  # optionally limit for speed\n",
    "            except Exception as e:\n",
    "                print(f\"Failed to load {MAJIQ_TSV}: {e}\")\n",
    "                continue\n",
    "    \n",
    "            for _, row in majiq_df.iterrows():\n",
    "                gene = row['gene_id']\n",
    "                lsv_id = row['lsv_id']\n",
    "                chrom = lsv_id.split(':')[1]\n",
    "                psi_values = list(map(float, row['mean_psi_per_lsv_junction'].split(';')))\n",
    "                junction_coords = row['junctions_coords'].split(';')\n",
    "    \n",
    "                psi_map = {}\n",
    "                for junc, psi in zip(junction_coords, psi_values):\n",
    "                    start, end = parse_coords(junc)\n",
    "                    psi_map[start] = psi\n",
    "                    psi_map[end] = psi\n",
    "    \n",
    "                result = get_gene_bounds(gene, DB_PATH)\n",
    "                if result is None:\n",
    "                    continue\n",
    "                chrom, strand, tss, tes = result\n",
    "                # Get expression vector for this block by sample\n",
    "                expr_vec = normalized_df.loc[:, sample_id].values  # shape: (10,)\n",
    "                expr_tensor = torch.tensor(expr_vec, dtype=torch.float32).view(-1, 1).repeat(1, BLOCK_SIZE)  # [10, 15000]\n",
    "    \n",
    "                blocks = make_blocks(tss, tes, chrom, genome, PADDING, BLOCK_SIZE)\n",
    "                #blocks = make_blocks(tss, tes, chrom, genome, BLOCK_SIZE)\n",
    "                for block_start, block_end, seq in blocks:\n",
    "                    seq_tensor = torch.tensor(one_hot_encode(seq), dtype=torch.float32)  # [4, 15000]\n",
    "                    X = torch.cat([seq_tensor, expr_tensor], dim=0)  # [14, 15000]\n",
    "                    y = torch.tensor(assign_labels(block_start, block_end, psi_map, PADDING, BLOCK_SIZE), dtype=torch.float32)\n",
    "                    training_input.append(X)\n",
    "                    training_label.append(y)\n",
    "\n",
    "    torch.save({'X': training_input, 'y': training_label}, _out_path)\n",
    "    print(f\"Saved {len(training_input)} samples to {_out_path}\")\n",
    "    return None"
   ]
  },
  {
   "cell_type": "code",
   "execution_count": 5,
   "id": "87e24cc5-43cf-499a-a6e4-2b7616c2a67d",
   "metadata": {},
   "outputs": [
    {
     "name": "stdout",
     "output_type": "stream",
     "text": [
      "Processing sample: 2027sTS\n"
     ]
    },
    {
     "ename": "TypeError",
     "evalue": "make_blocks() takes from 4 to 5 positional arguments but 6 were given",
     "output_type": "error",
     "traceback": [
      "\u001b[31m---------------------------------------------------------------------------\u001b[39m",
      "\u001b[31mTypeError\u001b[39m                                 Traceback (most recent call last)",
      "\u001b[36mCell\u001b[39m\u001b[36m \u001b[39m\u001b[32mIn[5]\u001b[39m\u001b[32m, line 3\u001b[39m\n\u001b[32m      1\u001b[39m normalized_df = pd.read_csv(\u001b[33m\"\u001b[39m\u001b[33mvar_top10_exp.TPM.tsv\u001b[39m\u001b[33m\"\u001b[39m, sep=\u001b[33m'\u001b[39m\u001b[38;5;130;01m\\t\u001b[39;00m\u001b[33m'\u001b[39m).set_index(\u001b[33m'\u001b[39m\u001b[33mgene_id\u001b[39m\u001b[33m'\u001b[39m)\n\u001b[32m      2\u001b[39m normalized_df = normalized_df.loc[:, [\u001b[33m\"\u001b[39m\u001b[33m2027sTS\u001b[39m\u001b[33m\"\u001b[39m]]\n\u001b[32m----> \u001b[39m\u001b[32m3\u001b[39m \u001b[43mWrite_Training_Data_From_EXP_PSI\u001b[49m\u001b[43m(\u001b[49m\u001b[43mnormalized_df\u001b[49m\u001b[43m,\u001b[49m\u001b[43m \u001b[49m\u001b[33;43m\"\u001b[39;49m\u001b[33;43m2027_training_data_sequece_exp.pt\u001b[39;49m\u001b[33;43m\"\u001b[39;49m\u001b[43m)\u001b[49m\n",
      "\u001b[36mCell\u001b[39m\u001b[36m \u001b[39m\u001b[32mIn[4]\u001b[39m\u001b[32m, line 44\u001b[39m, in \u001b[36mWrite_Training_Data_From_EXP_PSI\u001b[39m\u001b[34m(normalized_df, _out_path)\u001b[39m\n\u001b[32m     41\u001b[39m expr_vec = normalized_df.loc[:, sample_id].values  \u001b[38;5;66;03m# shape: (10,)\u001b[39;00m\n\u001b[32m     42\u001b[39m expr_tensor = torch.tensor(expr_vec, dtype=torch.float32).view(-\u001b[32m1\u001b[39m, \u001b[32m1\u001b[39m).repeat(\u001b[32m1\u001b[39m, BLOCK_SIZE)  \u001b[38;5;66;03m# [10, 15000]\u001b[39;00m\n\u001b[32m---> \u001b[39m\u001b[32m44\u001b[39m blocks = \u001b[43mmake_blocks\u001b[49m\u001b[43m(\u001b[49m\u001b[43mtss\u001b[49m\u001b[43m,\u001b[49m\u001b[43m \u001b[49m\u001b[43mtes\u001b[49m\u001b[43m,\u001b[49m\u001b[43m \u001b[49m\u001b[43mchrom\u001b[49m\u001b[43m,\u001b[49m\u001b[43m \u001b[49m\u001b[43mgenome\u001b[49m\u001b[43m,\u001b[49m\u001b[43m \u001b[49m\u001b[43mPADDING\u001b[49m\u001b[43m,\u001b[49m\u001b[43m \u001b[49m\u001b[43mBLOCK_SIZE\u001b[49m\u001b[43m)\u001b[49m\n\u001b[32m     45\u001b[39m \u001b[38;5;28;01mfor\u001b[39;00m block_start, block_end, seq \u001b[38;5;129;01min\u001b[39;00m blocks:\n\u001b[32m     46\u001b[39m     seq_tensor = torch.tensor(one_hot_encode(seq), dtype=torch.float32)  \u001b[38;5;66;03m# [4, 15000]\u001b[39;00m\n",
      "\u001b[31mTypeError\u001b[39m: make_blocks() takes from 4 to 5 positional arguments but 6 were given"
     ]
    }
   ],
   "source": [
    "normalized_df = pd.read_csv(\"var_top10_exp.TPM.tsv\", sep='\\t').set_index('gene_id')\n",
    "normalized_df = normalized_df.loc[:, [\"2027sTS\"]]\n",
    "Write_Training_Data_From_EXP_PSI(normalized_df, \"2027_training_data_sequece_exp.pt\")"
   ]
  },
  {
   "cell_type": "code",
   "execution_count": 9,
   "id": "e96e26cf-b54e-4b07-8242-c1ce23ffadc3",
   "metadata": {},
   "outputs": [
    {
     "name": "stdout",
     "output_type": "stream",
     "text": [
      "Gene: ENSG00000290825.2 – Coordinates: chr1 + 11121 24894\n",
      "2\n",
      "Prepared 0 training blocks.\n"
     ]
    }
   ],
   "source": [
    "## code tuning\n",
    "DB_PATH = \"/home/xli_p14/github/DL_RNA_Splicing/raw_data/annotation/gencode.v48.annotation.db\"\n",
    "# ---- Main Logic ----\n",
    "#MAJIQ_TSV = \"./demo/sample_output_MAJIQ.tsv\"    # MAJIQ output file\n",
    "MAJIQ_TSV = \"./raw_data/PSI/2027sTS.psi.tsv\"\n",
    "majiq_df = pd.read_csv(MAJIQ_TSV, sep=\"\\s+\")[0:2]\n",
    "\n",
    "training_input = []\n",
    "training_label = []\n",
    "\n",
    "for _, row in majiq_df.iterrows():\n",
    "    gene = row['gene_id']\n",
    "    lsv_id = row['lsv_id']\n",
    "    chrom = lsv_id.split(':')[1]  # crude extraction\n",
    "    lsv_type = row['lsv_type']\n",
    "    psi_values = list(map(float, row['mean_psi_per_lsv_junction'].split(';')))\n",
    "    junction_coords = row['junctions_coords'].split(';')\n",
    "    \n",
    "    # Map junction both end to PSI values\n",
    "    psi_map = {}\n",
    "    for junc, psi in zip(junction_coords, psi_values):\n",
    "        start, end = parse_coords(junc)\n",
    "        psi_map[start] = psi\n",
    "        psi_map[end] = psi\n",
    "\n",
    "    # Get TSS/TES for gene\n",
    "    result = get_gene_bounds(gene, DB_PATH)\n",
    "    if result is None:\n",
    "        print(f\"Skipping {gene} – gene bounds not found.\")\n",
    "        continue\n",
    "    chrom, strand, tss, tes = result\n",
    "    print (f\"Gene: {gene} – Coordinates: {chrom} {strand} {tss} {tes}\")\n",
    "    blocks = make_blocks(tss, tes, chrom, genome, PADDING, BLOCK_SIZE)\n",
    "    print (len(blocks))\n",
    "    break\n",
    "    for block_start, block_end, seq in blocks:\n",
    "        X = one_hot_encode(seq)\n",
    "        y = assign_labels(block_start, block_end, psi_map, PADDING, BLOCK_SIZE)\n",
    "        training_input.append(torch.tensor(X, dtype=torch.float32))\n",
    "        training_label.append(torch.tensor(y, dtype=torch.float32))\n",
    "        #break\n",
    "    #break\n",
    "\n",
    "# ---- Output ----\n",
    "print(f\"Prepared {len(training_input)} training blocks.\")\n",
    "#torch.save({'X': training_input, 'y': training_label}, \"training_data.pt\")"
   ]
  },
  {
   "cell_type": "code",
   "execution_count": 11,
   "id": "20596a71-766b-4a60-b359-0c5c46976f8d",
   "metadata": {},
   "outputs": [
    {
     "data": {
      "text/plain": [
       "13773"
      ]
     },
     "execution_count": 11,
     "metadata": {},
     "output_type": "execute_result"
    }
   ],
   "source": [
    "24894 - 11121"
   ]
  },
  {
   "cell_type": "code",
   "execution_count": 4,
   "id": "ff04eb5e-680b-4cf4-b912-f7912aa80ed0",
   "metadata": {},
   "outputs": [
    {
     "name": "stdout",
     "output_type": "stream",
     "text": [
      "Prepared 2524 training blocks.\n"
     ]
    }
   ],
   "source": [
    "# ---- Main Logic ----\n",
    "#MAJIQ_TSV = \"./demo/sample_output_MAJIQ.tsv\"    # MAJIQ output file\n",
    "MAJIQ_TSV = \"./raw_data/2027sTS_heart.psi.tsv\"\n",
    "majiq_df = pd.read_csv(MAJIQ_TSV, sep=\"\\s+\")\n",
    "majiq_df = majiq_df[0:100]\n",
    "\n",
    "training_input = []\n",
    "training_label = []\n",
    "\n",
    "for _, row in majiq_df.iterrows():\n",
    "    gene = row['gene_id']\n",
    "    lsv_id = row['lsv_id']\n",
    "    chrom = lsv_id.split(':')[1]  # crude extraction\n",
    "    lsv_type = row['lsv_type']\n",
    "    psi_values = list(map(float, row['mean_psi_per_lsv_junction'].split(';')))\n",
    "    junction_coords = row['junctions_coords'].split(';')\n",
    "    \n",
    "    # Map junction both end to PSI values\n",
    "    psi_map = {}\n",
    "    for junc, psi in zip(junction_coords, psi_values):\n",
    "        start, end = parse_coords(junc)\n",
    "        psi_map[start] = psi\n",
    "        psi_map[end] = psi\n",
    "        #mid = (start + end) // 2\n",
    "        #psi_map[mid] = psi\n",
    "\n",
    "    # Get TSS/TES for gene\n",
    "    try:\n",
    "        chrom, strand, tss, tes = get_gene_bounds(gene, DB_PATH)\n",
    "    except NotImplementedError:\n",
    "        continue  # Skip until GTF loading is implemented\n",
    "\n",
    "    blocks = make_blocks(tss, tes, chrom, genome, PADDING, BLOCK_SIZE)\n",
    "\n",
    "    \n",
    "    for block_start, block_end, seq in blocks:\n",
    "        X = one_hot_encode(seq)\n",
    "        y = assign_labels(block_start, block_end, psi_map, PADDING, BLOCK_SIZE)\n",
    "        training_input.append(torch.tensor(X, dtype=torch.float32))\n",
    "        training_label.append(torch.tensor(y, dtype=torch.float32))\n",
    "        #break\n",
    "    #break\n",
    "\n",
    "# ---- Output ----\n",
    "print(f\"Prepared {len(training_input)} training blocks.\")\n",
    "torch.save({'X': training_input, 'y': training_label}, \"training_data.pt\")"
   ]
  },
  {
   "cell_type": "markdown",
   "id": "23d6dce6-c759-46d0-9e83-f510d25a9e36",
   "metadata": {},
   "source": [
    "## validation from PSI to Label"
   ]
  },
  {
   "cell_type": "code",
   "execution_count": null,
   "id": "8eaff0a0-dbd2-42e6-8bee-efbae00ee9b8",
   "metadata": {},
   "outputs": [],
   "source": []
  },
  {
   "cell_type": "code",
   "execution_count": 5,
   "id": "3792a2d4-dbdd-4be7-aeb4-567689f9417e",
   "metadata": {},
   "outputs": [],
   "source": [
    "def Plot_2D_Array(array):\n",
    "    ## 2D torch tensor, shape =  torch.Size([3, 15000])\n",
    "    # Plot\n",
    "    fig, axes = plt.subplots(3, 1, figsize=(14, 6), sharex=True)\n",
    "    colors = ['gray', 'blue', 'red']\n",
    "    labels = ['Un', 'S', 'Usage']\n",
    "    # X-axis (sequence positions)\n",
    "    x = np.arange(len(array[0]))\n",
    "    \n",
    "    for i in range(3):\n",
    "        axes[i].plot(x, array[i], color = colors[i])\n",
    "        axes[i].set_ylabel(labels[i])\n",
    "        axes[i].set_ylim(0, 1)\n",
    "        axes[i].grid(True)\n",
    "    \n",
    "    axes[-1].set_xlabel(\"Sequence Position\")\n",
    "    fig.suptitle(\"Individual Class Predictions Over Sequence\", y=1.02)\n",
    "    plt.tight_layout()\n",
    "    plt.show()\n",
    "    return None"
   ]
  },
  {
   "cell_type": "code",
   "execution_count": 8,
   "id": "f0118018-f0ab-45d0-8a7d-6bf1843cc75d",
   "metadata": {},
   "outputs": [],
   "source": [
    "## validation from PSI to Label\n",
    "#class_labels = assign_labels(block_start, block_end, psi_map, PADDING, BLOCK_SIZE)\n",
    "#Plot_2D_Array(class_labels)"
   ]
  },
  {
   "cell_type": "code",
   "execution_count": 6,
   "id": "bb9bd894-2589-4dc2-9d19-89d76387ca5a",
   "metadata": {},
   "outputs": [
    {
     "data": {
      "image/png": "[encoded data removed]",
      "text/plain": [
       "<Figure size 1400x600 with 3 Axes>"
      ]
     },
     "metadata": {},
     "output_type": "display_data"
    }
   ],
   "source": [
    "cor_start = 8200\n",
    "cor_end = 9300\n",
    "plot_one_hot_and_labels_zoom(training_input[0], training_label[0], zoom_start=cor_start, zoom_end=cor_end, title=\"Sequence and Labels\")"
   ]
  },
  {
   "cell_type": "code",
   "execution_count": null,
   "id": "36bb1e1e-6c8b-4369-b36c-958b50597820",
   "metadata": {},
   "outputs": [],
   "source": [
    "## Test"
   ]
  },
  {
   "cell_type": "code",
   "execution_count": 5,
   "id": "37a579ec-7a7f-49e1-b820-3dfe1ba48af5",
   "metadata": {},
   "outputs": [
    {
     "data": {
      "text/plain": [
       "('chr1', '+', 47137435, 47149735)"
      ]
     },
     "execution_count": 5,
     "metadata": {},
     "output_type": "execute_result"
    }
   ],
   "source": [
    "gene = \"ENSG00000070019.5\"\n",
    "get_gene_bounds(gene, DB_PATH)\n",
    "#print (tss, tes, chrom, genome, PADDING)\n",
    "#majiq_df.head(0)\n",
    "gene = \"ENSG00000162365.12\"\n",
    "get_gene_bounds(gene, DB_PATH)"
   ]
  },
  {
   "cell_type": "code",
   "execution_count": 31,
   "id": "71c23ed8-db23-44f8-923f-7f4e239ba270",
   "metadata": {},
   "outputs": [
    {
     "name": "stdout",
     "output_type": "stream",
     "text": [
      "Prepared 105 training blocks.\n"
     ]
    }
   ],
   "source": [
    "print(f\"Prepared {len(training_data)} training blocks.\")\n"
   ]
  },
  {
   "cell_type": "code",
   "execution_count": 11,
   "id": "79ca376d-c09d-4eb6-ab20-16cd681c171a",
   "metadata": {},
   "outputs": [
    {
     "data": {
      "text/plain": [
       "array([[0., 0., 0., ..., 0., 0., 0.],\n",
       "       [0., 0., 0., ..., 0., 0., 0.],\n",
       "       [0., 0., 0., ..., 0., 0., 0.]], shape=(3, 15000))"
      ]
     },
     "execution_count": 11,
     "metadata": {},
     "output_type": "execute_result"
    }
   ],
   "source": [
    "training_data[0][0]\n",
    "training_data[0][1]"
   ]
  },
  {
   "cell_type": "code",
   "execution_count": null,
   "id": "fcb54584-c085-46ee-90d7-08c9f0de2c9e",
   "metadata": {},
   "outputs": [],
   "source": []
  },
  {
   "cell_type": "code",
   "execution_count": 52,
   "id": "ccfe59ea-7c89-421f-8e77-a32f373d13dc",
   "metadata": {},
   "outputs": [
    {
     "data": {
      "text/plain": [
       "np.int64(8811)"
      ]
     },
     "execution_count": 52,
     "metadata": {},
     "output_type": "execute_result"
    }
   ],
   "source": [
    "data_for_plot[1][:, 0].argmax()\n",
    "data_for_plot[1][:, 1].argmax()\n",
    "data_for_plot[1][:, 2].argmax()"
   ]
  },
  {
   "cell_type": "code",
   "execution_count": 22,
   "id": "0b82e266-204f-44fc-ae40-fdd0c473bd9b",
   "metadata": {},
   "outputs": [
    {
     "data": {
      "text/plain": [
       "array([0.    , 1.    , 0.9877])"
      ]
     },
     "execution_count": 22,
     "metadata": {},
     "output_type": "execute_result"
    }
   ],
   "source": [
    "data_for_plot[1][:, 8811]"
   ]
  },
  {
   "cell_type": "code",
   "execution_count": 24,
   "id": "c719e181-513c-44e4-860f-72b291fe9972",
   "metadata": {},
   "outputs": [],
   "source": [
    "#decode_one_hot(data_for_plot[0].T)"
   ]
  }
 ],
 "metadata": {
  "kernelspec": {
   "display_name": "Python 3 (ipykernel)",
   "language": "python",
   "name": "python3"
  },
  "language_info": {
   "codemirror_mode": {
    "name": "ipython",
    "version": 3
   },
   "file_extension": ".py",
   "mimetype": "text/x-python",
   "name": "python",
   "nbconvert_exporter": "python",
   "pygments_lexer": "ipython3",
   "version": "3.11.9"
  }
 },
 "nbformat": 4,
 "nbformat_minor": 5
}
